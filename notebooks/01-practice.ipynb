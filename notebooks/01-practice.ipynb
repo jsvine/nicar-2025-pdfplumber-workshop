{
 "cells": [
  {
   "cell_type": "markdown",
   "id": "fac4477e",
   "metadata": {},
   "source": [
    "# Let's put that lesson into practice 🔍"
   ]
  },
  {
   "cell_type": "markdown",
   "id": "5d97e74c-628b-4fd9-9c0e-1926f8a6bc98",
   "metadata": {},
   "source": [
    "## First things first"
   ]
  },
  {
   "cell_type": "markdown",
   "id": "8691bea2-49f3-43d7-a73f-8f71a97292bf",
   "metadata": {},
   "source": [
    "#### Load the library (and a couple of others)"
   ]
  },
  {
   "cell_type": "code",
   "execution_count": 1,
   "id": "aa8f011a-1554-41eb-8ea7-d1504537facf",
   "metadata": {},
   "outputs": [],
   "source": [
    "import re\n",
    "\n",
    "import pandas as pd\n",
    "import pdfplumber"
   ]
  },
  {
   "cell_type": "markdown",
   "id": "155ce5c7-d80b-4d62-af5d-851fa481487c",
   "metadata": {},
   "source": [
    "#### Open the PDF"
   ]
  },
  {
   "cell_type": "code",
   "execution_count": 2,
   "id": "ed175923-f07d-4ee6-9ea3-71f7006eeff1",
   "metadata": {},
   "outputs": [],
   "source": [
    "pdf = pdfplumber.open(\"../pdfs/01-practice.pdf\")"
   ]
  },
  {
   "cell_type": "markdown",
   "id": "792f36e3-c44c-473e-b8b2-9f541ad25fa8",
   "metadata": {},
   "source": [
    "#### How many pages in the PDF?"
   ]
  },
  {
   "cell_type": "code",
   "execution_count": 3,
   "id": "e73e8e0d-f052-4d3d-97d0-b0b3a32aa31a",
   "metadata": {},
   "outputs": [
    {
     "data": {
      "text/plain": [
       "1"
      ]
     },
     "execution_count": 3,
     "metadata": {},
     "output_type": "execute_result"
    }
   ],
   "source": [
    "len(pdf.pages)"
   ]
  },
  {
   "cell_type": "markdown",
   "id": "20b1035d-2b15-485d-a7fa-dd9c42ca2639",
   "metadata": {},
   "source": [
    "#### Select that first/only page"
   ]
  },
  {
   "cell_type": "code",
   "execution_count": 4,
   "id": "eda739c7-75ac-400f-a572-96222c90b057",
   "metadata": {},
   "outputs": [
    {
     "data": {
      "text/plain": [
       "<Page:1>"
      ]
     },
     "execution_count": 4,
     "metadata": {},
     "output_type": "execute_result"
    }
   ],
   "source": [
    "page = pdf.pages[0]\n",
    "page"
   ]
  },
  {
   "cell_type": "markdown",
   "id": "bd72253d-ff94-4b9e-ac5b-20f9650879af",
   "metadata": {},
   "source": [
    "## What does the page look like?"
   ]
  },
  {
   "cell_type": "code",
   "execution_count": 5,
   "id": "60838218-829d-43ca-953d-270d3019dadc",
   "metadata": {},
   "outputs": [
    {
     "data": {
      "image/png": "[encoded data removed]",
      "text/plain": [
       "<pdfplumber.display.PageImage at 0x10f4d5310>"
      ]
     },
     "execution_count": 5,
     "metadata": {},
     "output_type": "execute_result"
    }
   ],
   "source": [
    "im = page.to_image()\n",
    "im"
   ]
  },
  {
   "cell_type": "markdown",
   "id": "73318989-34c0-407a-bc1b-c798bb938eaf",
   "metadata": {},
   "source": [
    "## Let's extract the text"
   ]
  },
  {
   "cell_type": "markdown",
   "id": "e0f1327c-69d0-475e-b5b5-6ca5b14a0069",
   "metadata": {},
   "source": [
    "#### The \"plain\" way, which we learned in the previous notebook"
   ]
  },
  {
   "cell_type": "code",
   "execution_count": 6,
   "id": "7007647b-67b2-4fed-8632-c86d8fb01381",
   "metadata": {},
   "outputs": [
    {
     "name": "stdout",
     "output_type": "stream",
     "text": [
      "Jungle Health and Safety Inspection Service\n",
      "INS-UP70N51NCL41R\n",
      "Site: Durham’s Meatpacking Chicago, Ill.\n",
      "Date: February 3, 1905\n",
      "Violation Count: 7\n",
      "Summary: Worst of any, however, were the fertilizer men, and those who served in the cooking rooms.\n",
      "These people could not be shown to the visitor - for the odor of a fertilizer man would scare any ordinary\n",
      "visitor at a hundred yards, and as for the other men, who worked in tank rooms full of steam, and in\n",
      "some of which there were open vats near the level of the floor, their peculiar trouble was that they fell\n",
      "into the vats; and when they were fished out, there was never enough of them left to be worth\n",
      "exhibiting - sometimes they would be overlooked for days, till all but the bones of them had gone out\n",
      "to the world as Durham’s Pure Leaf Lard!\n",
      "Violations\n",
      "Statute Description Level Repeat?\n",
      "4.12.7 Unsanitary Working Conditions. Critical\n",
      "5.8.3 Inadequate Protective Equipment. Serious\n",
      "6.3.9 Ineffective Injury Prevention. Serious\n",
      "7.1.5 Failure to Properly Store Hazardous Materials. Critical\n",
      "8.9.2 Lack of Adequate Fire Safety Measures. Serious\n",
      "9.6.4 Inadequate Ventilation Systems. Serious\n",
      "10.2.7 Insufficient Employee Training for Safe Work Practices. Serious\n",
      "Jungle Health and Safety Inspection Service\n"
     ]
    }
   ],
   "source": [
    "print(page.extract_text())"
   ]
  },
  {
   "cell_type": "markdown",
   "id": "f948b849-c038-4359-aecc-6e8663d1117f",
   "metadata": {},
   "source": [
    "#### The \"layout\" way\n",
    "\n",
    "If you set `layout=True`, then `.extract_text(...)` attempts to mimic the layout of the original text. As you'll see, it does a *decent* but not perfect job."
   ]
  },
  {
   "cell_type": "code",
   "execution_count": 7,
   "id": "edff6abc",
   "metadata": {},
   "outputs": [
    {
     "name": "stdout",
     "output_type": "stream",
     "text": [
      "                                                                                    \n",
      "                                                                                    \n",
      "                                                                                    \n",
      "                                                     Jungle Health and Safety Inspection Service\n",
      "                                                     INS-UP70N51NCL41R              \n",
      "                                                                                    \n",
      "       Site: Durham’s Meatpacking Chicago, Ill.                                     \n",
      "                                                                                    \n",
      "       Date: February 3, 1905                                                       \n",
      "                                                                                    \n",
      "       Violation Count: 7                                                           \n",
      "       Summary: Worst of any, however, were the fertilizer men, and those who served in the cooking rooms.\n",
      "       These people could not be shown to the visitor - for the odor of a fertilizer man would scare any ordinary\n",
      "                                                                                    \n",
      "       visitor at a hundred yards, and as for the other men, who worked in tank rooms full of steam, and in\n",
      "       some of which there were open vats near the level of the floor, their peculiar trouble was that they fell\n",
      "       into the vats; and when they were fished out, there was never enough of them left to be worth\n",
      "       exhibiting - sometimes they would be overlooked for days, till all but the bones of them had gone out\n",
      "       to the world as Durham’s Pure Leaf Lard!                                     \n",
      "                                                                                    \n",
      "                                                                                    \n",
      "                                                                                    \n",
      "                                                                                    \n",
      "                                                                                    \n",
      "                                                                                    \n",
      "                                                                                    \n",
      "                                                                                    \n",
      "                                                                                    \n",
      "                                                                                    \n",
      "       Violations                                                                   \n",
      "                                                                                    \n",
      "        Statute Description                                    Level  Repeat?       \n",
      "        4.12.7 Unsanitary Working Conditions.                  Critical             \n",
      "                                                                                    \n",
      "        5.8.3 Inadequate Protective Equipment.                 Serious              \n",
      "        6.3.9 Ineffective Injury Prevention.                   Serious              \n",
      "                                                                                    \n",
      "        7.1.5 Failure to Properly Store Hazardous Materials.   Critical             \n",
      "        8.9.2 Lack of Adequate Fire Safety Measures.           Serious              \n",
      "                                                                                    \n",
      "        9.6.4 Inadequate Ventilation Systems.                  Serious              \n",
      "        10.2.7 Insufficient Employee Training for Safe Work Practices. Serious      \n",
      "                                                                                    \n",
      "                                                                                    \n",
      "                                                                                    \n",
      "                                                                                    \n",
      "                                                                                    \n",
      "                                                                                    \n",
      "                                                                                    \n",
      "                                                                                    \n",
      "                                                                                    \n",
      "                                                                                    \n",
      "                                                                                    \n",
      "                                                                                    \n",
      "                                                                                    \n",
      "                                                                                    \n",
      "                                                                                    \n",
      "                                                                                    \n",
      "                                                                                    \n",
      "                                Jungle Health and Safety Inspection Service         \n"
     ]
    }
   ],
   "source": [
    "print(page.extract_text(layout=True))"
   ]
  },
  {
   "cell_type": "markdown",
   "id": "9e53ab48",
   "metadata": {},
   "source": [
    "## Let's start visual debugging\n",
    "\n",
    "Visual debugging is typically the first thing I do when I'm working with a PDF for the first time. \n",
    "\n",
    "First, let's examine the structural parts of the page: Where are the characters, rectangles, and lines?"
   ]
  },
  {
   "cell_type": "markdown",
   "id": "0ff2e164",
   "metadata": {},
   "source": [
    "#### Characters"
   ]
  },
  {
   "cell_type": "code",
   "execution_count": 8,
   "id": "4bcdc1ce",
   "metadata": {},
   "outputs": [
    {
     "data": {
      "image/png": "[encoded data removed]",
      "text/plain": [
       "<pdfplumber.display.PageImage at 0x10f4d5310>"
      ]
     },
     "execution_count": 8,
     "metadata": {},
     "output_type": "execute_result"
    }
   ],
   "source": [
    "im.reset().draw_rects(page.chars)"
   ]
  },
  {
   "cell_type": "markdown",
   "id": "33e2b6fd",
   "metadata": {},
   "source": [
    "#### Rectangles"
   ]
  },
  {
   "cell_type": "code",
   "execution_count": 9,
   "id": "e12e0fc3",
   "metadata": {},
   "outputs": [
    {
     "data": {
      "image/png": "[encoded data removed]",
      "text/plain": [
       "<pdfplumber.display.PageImage at 0x10f4d5310>"
      ]
     },
     "execution_count": 9,
     "metadata": {},
     "output_type": "execute_result"
    }
   ],
   "source": [
    "im.reset().draw_rects(page.rects)"
   ]
  },
  {
   "cell_type": "markdown",
   "id": "aca8e41b",
   "metadata": {},
   "source": [
    "#### Lines"
   ]
  },
  {
   "cell_type": "code",
   "execution_count": 10,
   "id": "fb4f01bc",
   "metadata": {},
   "outputs": [
    {
     "data": {
      "image/png": "[encoded data removed]",
      "text/plain": [
       "<pdfplumber.display.PageImage at 0x10f4d5310>"
      ]
     },
     "execution_count": 10,
     "metadata": {},
     "output_type": "execute_result"
    }
   ],
   "source": [
    "im.reset().draw_lines(page.lines, stroke_width=2)"
   ]
  },
  {
   "cell_type": "markdown",
   "id": "20f11d91",
   "metadata": {},
   "source": [
    "#### Here's something we haven't seen before: `.debug_tablefinder(...)`\n",
    "\n",
    "`pdfplumber` comes with a set of features for identifying and extracting tables on a given page. `PageImage.debug_tablefinder(...)` shows you what the table-finding method sees:"
   ]
  },
  {
   "cell_type": "code",
   "execution_count": 11,
   "id": "d368bc51",
   "metadata": {},
   "outputs": [
    {
     "data": {
      "image/png": "[encoded data removed]",
      "text/plain": [
       "<pdfplumber.display.PageImage at 0x10f4d5310>"
      ]
     },
     "execution_count": 11,
     "metadata": {},
     "output_type": "execute_result"
    }
   ],
   "source": [
    "im.reset().debug_tablefinder()"
   ]
  },
  {
   "cell_type": "markdown",
   "id": "b9bd1e31-a606-4485-af6c-93f55a226361",
   "metadata": {},
   "source": [
    "## Let's extract that table!\n",
    "\n",
    "(Note: Not all tables are so simple and explicit. See `pdfplumber`'s [table-extraction documentation](https://github.com/jsvine/pdfplumber#extracting-tables) to learn how to extract more difficult tables.)"
   ]
  },
  {
   "cell_type": "markdown",
   "id": "0f1fb19e-63be-462e-8209-8f44e2635b83",
   "metadata": {},
   "source": [
    "#### All tables (in this example, there's only one)"
   ]
  },
  {
   "cell_type": "code",
   "execution_count": 12,
   "id": "2f04e8e9",
   "metadata": {},
   "outputs": [
    {
     "data": {
      "text/plain": [
       "[[['Statute', 'Description', 'Level', 'Repeat?'],\n",
       "  ['4.12.7', 'Unsanitary Working Conditions.', 'Critical', ''],\n",
       "  ['5.8.3', 'Inadequate Protective Equipment.', 'Serious', ''],\n",
       "  ['6.3.9', 'Ineffective Injury Prevention.', 'Serious', ''],\n",
       "  ['7.1.5', 'Failure to Properly Store Hazardous Materials.', 'Critical', ''],\n",
       "  ['8.9.2', 'Lack of Adequate Fire Safety Measures.', 'Serious', ''],\n",
       "  ['9.6.4', 'Inadequate Ventilation Systems.', 'Serious', ''],\n",
       "  ['10.2.7',\n",
       "   'Insufficient Employee Training for Safe Work Practices.',\n",
       "   'Serious',\n",
       "   '']]]"
      ]
     },
     "execution_count": 12,
     "metadata": {},
     "output_type": "execute_result"
    }
   ],
   "source": [
    "page.extract_tables()"
   ]
  },
  {
   "cell_type": "markdown",
   "id": "b85cfa42-e6b1-4618-9cbe-fb206aab8d3d",
   "metadata": {},
   "source": [
    "#### Just the largest table (and put it in a `pandas` `DataFrame`)"
   ]
  },
  {
   "cell_type": "code",
   "execution_count": 13,
   "id": "a41bb6c7",
   "metadata": {},
   "outputs": [
    {
     "data": {
      "text/html": [
       "<div>\n",
       "<style scoped>\n",
       "    .dataframe tbody tr th:only-of-type {\n",
       "        vertical-align: middle;\n",
       "    }\n",
       "\n",
       "    .dataframe tbody tr th {\n",
       "        vertical-align: top;\n",
       "    }\n",
       "\n",
       "    .dataframe thead th {\n",
       "        text-align: right;\n",
       "    }\n",
       "</style>\n",
       "<table border=\"1\" class=\"dataframe\">\n",
       "  <thead>\n",
       "    <tr style=\"text-align: right;\">\n",
       "      <th></th>\n",
       "      <th>Statute</th>\n",
       "      <th>Description</th>\n",
       "      <th>Level</th>\n",
       "      <th>Repeat?</th>\n",
       "    </tr>\n",
       "  </thead>\n",
       "  <tbody>\n",
       "    <tr>\n",
       "      <th>0</th>\n",
       "      <td>4.12.7</td>\n",
       "      <td>Unsanitary Working Conditions.</td>\n",
       "      <td>Critical</td>\n",
       "      <td></td>\n",
       "    </tr>\n",
       "    <tr>\n",
       "      <th>1</th>\n",
       "      <td>5.8.3</td>\n",
       "      <td>Inadequate Protective Equipment.</td>\n",
       "      <td>Serious</td>\n",
       "      <td></td>\n",
       "    </tr>\n",
       "    <tr>\n",
       "      <th>2</th>\n",
       "      <td>6.3.9</td>\n",
       "      <td>Ineffective Injury Prevention.</td>\n",
       "      <td>Serious</td>\n",
       "      <td></td>\n",
       "    </tr>\n",
       "    <tr>\n",
       "      <th>3</th>\n",
       "      <td>7.1.5</td>\n",
       "      <td>Failure to Properly Store Hazardous Materials.</td>\n",
       "      <td>Critical</td>\n",
       "      <td></td>\n",
       "    </tr>\n",
       "    <tr>\n",
       "      <th>4</th>\n",
       "      <td>8.9.2</td>\n",
       "      <td>Lack of Adequate Fire Safety Measures.</td>\n",
       "      <td>Serious</td>\n",
       "      <td></td>\n",
       "    </tr>\n",
       "    <tr>\n",
       "      <th>5</th>\n",
       "      <td>9.6.4</td>\n",
       "      <td>Inadequate Ventilation Systems.</td>\n",
       "      <td>Serious</td>\n",
       "      <td></td>\n",
       "    </tr>\n",
       "    <tr>\n",
       "      <th>6</th>\n",
       "      <td>10.2.7</td>\n",
       "      <td>Insufficient Employee Training for Safe Work P...</td>\n",
       "      <td>Serious</td>\n",
       "      <td></td>\n",
       "    </tr>\n",
       "  </tbody>\n",
       "</table>\n",
       "</div>"
      ],
      "text/plain": [
       "  Statute                                        Description     Level Repeat?\n",
       "0  4.12.7                     Unsanitary Working Conditions.  Critical        \n",
       "1   5.8.3                   Inadequate Protective Equipment.   Serious        \n",
       "2   6.3.9                     Ineffective Injury Prevention.   Serious        \n",
       "3   7.1.5     Failure to Properly Store Hazardous Materials.  Critical        \n",
       "4   8.9.2             Lack of Adequate Fire Safety Measures.   Serious        \n",
       "5   9.6.4                    Inadequate Ventilation Systems.   Serious        \n",
       "6  10.2.7  Insufficient Employee Training for Safe Work P...   Serious        "
      ]
     },
     "execution_count": 13,
     "metadata": {},
     "output_type": "execute_result"
    }
   ],
   "source": [
    "rows = page.extract_table()\n",
    "\n",
    "pd.DataFrame(rows[1:], columns=rows[0])"
   ]
  },
  {
   "cell_type": "markdown",
   "id": "cceac5ef",
   "metadata": {},
   "source": [
    "## Planning the rest of our extraction\n",
    "\n",
    "What parts of the page do we want to grab? What strategies might we be able to use?"
   ]
  },
  {
   "cell_type": "code",
   "execution_count": 14,
   "id": "03e5d833-c851-4bcb-bf4c-a033e1af5dd0",
   "metadata": {},
   "outputs": [
    {
     "data": {
      "image/png": "[encoded data removed]",
      "text/plain": [
       "<pdfplumber.display.PageImage at 0x10f4d5310>"
      ]
     },
     "execution_count": 14,
     "metadata": {},
     "output_type": "execute_result"
    }
   ],
   "source": [
    "im.reset()"
   ]
  },
  {
   "cell_type": "markdown",
   "id": "a3038fab",
   "metadata": {},
   "source": [
    "## Inspection ID\n",
    "\n",
    "Let's start with the inspection ID, in the box at the top of the page. How might we get that? \n",
    "\n",
    "With PDFs, there's often more than one option. Let's explore a few!"
   ]
  },
  {
   "cell_type": "markdown",
   "id": "997f1368",
   "metadata": {},
   "source": [
    "#### __Option 1__: Just extract the text and parse it out of there.\n",
    "\n",
    "We might feel confident, perhaps, that the text will always look something like this:\n",
    "\n",
    "```\n",
    "Jungle Health and Safety Inspection Service\n",
    "{Inspection ID}\n",
    "[...]\n",
    "```\n",
    "\n",
    "If that's a safe assumption, then straightforward text extraction should work fine. Here's the top part of the text:"
   ]
  },
  {
   "cell_type": "code",
   "execution_count": 15,
   "id": "bf278347",
   "metadata": {},
   "outputs": [
    {
     "name": "stdout",
     "output_type": "stream",
     "text": [
      "Jungle Health and Safety Inspection Service\n",
      "INS-UP70N51NCL41R\n",
      "Site: Durham’s Meatpacking Chicago, Ill.\n",
      "Date: February 3, 1905\n",
      "Violation Count: 7\n",
      "Summary: Worst of any, however, were the fertilizer men\n"
     ]
    }
   ],
   "source": [
    "text_simple = page.extract_text()\n",
    "print(text_simple[:200])  # Printing just the initial chunk"
   ]
  },
  {
   "cell_type": "markdown",
   "id": "cb333dfb-e4d7-4155-a3ef-423a3cba329b",
   "metadata": {},
   "source": [
    "... which you could parse with a [regular expression](https://www.w3schools.com/python/python_regex.asp):"
   ]
  },
  {
   "cell_type": "code",
   "execution_count": 16,
   "id": "b6f5f63f",
   "metadata": {},
   "outputs": [
    {
     "name": "stdout",
     "output_type": "stream",
     "text": [
      "INS-UP70N51NCL41R\n"
     ]
    }
   ],
   "source": [
    "insp_num_pat = r\"Jungle Health and Safety Inspection Service\\s+([^\\n]+)\"\n",
    "\n",
    "insp_num_match = re.search(insp_num_pat, text_simple)\n",
    "\n",
    "print(insp_num_match.group(1))"
   ]
  },
  {
   "cell_type": "markdown",
   "id": "e1052d3a",
   "metadata": {},
   "source": [
    "Huzzah! Alternatively, you could use `pdfplumber`'s built-in `Page.search(...)` method:"
   ]
  },
  {
   "cell_type": "code",
   "execution_count": 17,
   "id": "0caa09b0",
   "metadata": {},
   "outputs": [
    {
     "name": "stdout",
     "output_type": "stream",
     "text": [
      "INS-UP70N51NCL41R\n"
     ]
    }
   ],
   "source": [
    "search_results = page.search(insp_num_pat)\n",
    "\n",
    "first_match = search_results[0]\n",
    "\n",
    "print(first_match[\"groups\"][0])"
   ]
  },
  {
   "cell_type": "markdown",
   "id": "e7644364-fe10-48d1-a977-4db32b6e06d9",
   "metadata": {},
   "source": [
    "&nbsp;\n",
    "&nbsp;\n",
    "\n",
    "#### __Option 2__: Cropping\n",
    "\n",
    "What if you weren't so sure about that textual pattern? Maybe `Jungle Health and Safety Inspection Service` isn't the only inspection agency in your pile of PDFs? Or maybe there's sometimes a second line of text before the inspection number?\n",
    "\n",
    "How about the box surrounding it? From the debugging we did above, we know that the box is defined as a rectangle, and perhaps we're pretty sure it'll always be the first one on the page. So let's take these steps, using the `Page.crop(...)` method we learned in the previous notebook:\n",
    "\n",
    "1. Select the rectangle\n",
    "2. Grab the rectangle's bounding box\n",
    "2. Pass the bounding box to `page.crop(...)`\n",
    "3. Extract the text"
   ]
  },
  {
   "cell_type": "code",
   "execution_count": 18,
   "id": "18013511",
   "metadata": {},
   "outputs": [
    {
     "name": "stdout",
     "output_type": "stream",
     "text": [
      "(375, 27, 555, 62)\n"
     ]
    }
   ],
   "source": [
    "top_rect = page.rects[0]\n",
    "\n",
    "top_rect_bbox = (top_rect[\"x0\"], top_rect[\"top\"], top_rect[\"x1\"], top_rect[\"bottom\"])\n",
    "\n",
    "# Alternatively:\n",
    "# top_rect_bbox = pdfplumber.utils.obj_to_bbox(top_rect)\n",
    "\n",
    "print(top_rect_bbox)"
   ]
  },
  {
   "cell_type": "code",
   "execution_count": 19,
   "id": "07a4d8f8",
   "metadata": {},
   "outputs": [],
   "source": [
    "top_rect_cropped = page.crop(top_rect_bbox)"
   ]
  },
  {
   "cell_type": "markdown",
   "id": "8f3c361c-449c-4adc-a0e7-8d92a1ecc68e",
   "metadata": {},
   "source": [
    "Let's check that the crop looks like what we intended:"
   ]
  },
  {
   "cell_type": "code",
   "execution_count": 20,
   "id": "b983ce23",
   "metadata": {},
   "outputs": [
    {
     "data": {
      "image/png": "[encoded data removed]",
      "text/plain": [
       "<pdfplumber.display.PageImage at 0x105436ae0>"
      ]
     },
     "execution_count": 20,
     "metadata": {},
     "output_type": "execute_result"
    }
   ],
   "source": [
    "# Here, we pass an argument that increases the dimensions, for easier viewing\n",
    "top_rect_cropped.to_image(resolution=150)"
   ]
  },
  {
   "cell_type": "markdown",
   "id": "e7ca0d25-cad0-4325-8224-84cfbb3eea23",
   "metadata": {},
   "source": [
    "Great. Now, we can extract:"
   ]
  },
  {
   "cell_type": "code",
   "execution_count": 21,
   "id": "ddea419f",
   "metadata": {},
   "outputs": [
    {
     "name": "stdout",
     "output_type": "stream",
     "text": [
      "Jungle Health and Safety Inspection Service\n",
      "INS-UP70N51NCL41R\n"
     ]
    }
   ],
   "source": [
    "top_rect_text = top_rect_cropped.extract_text()\n",
    "\n",
    "print(top_rect_text)"
   ]
  },
  {
   "cell_type": "markdown",
   "id": "af9f8fbe-4c20-4d0b-b278-0f7b7af47792",
   "metadata": {},
   "source": [
    "... and grab the second line:"
   ]
  },
  {
   "cell_type": "code",
   "execution_count": 22,
   "id": "9ff8a77a",
   "metadata": {},
   "outputs": [
    {
     "name": "stdout",
     "output_type": "stream",
     "text": [
      "INS-UP70N51NCL41R\n"
     ]
    }
   ],
   "source": [
    "print(top_rect_text.split(\"\\n\")[-1])"
   ]
  },
  {
   "cell_type": "markdown",
   "id": "02fea6cd",
   "metadata": {},
   "source": [
    "&nbsp;\n",
    "&nbsp;\n",
    "\n",
    "#### __Option 3__: Filtering on character attributes\n",
    "\n",
    "What if you weren't so sure about that, either? Maybe there's not always a box around the text, or maybe the inspection number sometimes comes *before* the agency name.\n",
    "\n",
    "Perhaps you're more confident that, whatever the rest of the pattern, the inspection number will always show up in red? Let's try that. \n",
    "\n",
    "Text and graphical objects can have two types of colors: `stroking_color` (the outline) and `non_stroking_color` (the fill). With text, you're almost always looking for the `non_stroking_color`. \n",
    "\n",
    "Let's see what `non_stroking_color`s our text has:"
   ]
  },
  {
   "cell_type": "code",
   "execution_count": 23,
   "id": "58f261be",
   "metadata": {},
   "outputs": [
    {
     "data": {
      "text/plain": [
       "non_stroking_color\n",
       "(0,)         688\n",
       "None         504\n",
       "(1, 0, 0)     17\n",
       "(0.5,)        13\n",
       "Name: count, dtype: int64"
      ]
     },
     "execution_count": 23,
     "metadata": {},
     "output_type": "execute_result"
    }
   ],
   "source": [
    "char_colors = pd.DataFrame(page.chars)[\"non_stroking_color\"].astype(str)\n",
    "\n",
    "char_colors.value_counts()"
   ]
  },
  {
   "cell_type": "markdown",
   "id": "13128e07",
   "metadata": {},
   "source": [
    "As you can see, there are a few ways to specify color in PDFs. Let's break these down:\n",
    "\n",
    "- `None`: The default color, black.\n",
    "- `0`: A one-number specification refers to a grayscale color, on a continuum running from 0 (black) to 1 (white).\n",
    "- `0.5`: Ditto. In this case, `0.5` is a gray halfway between white and black.\n",
    "- `(1, 0, 0)`: A three-number tuple refers to an RGB color, with values for each item ranging from 0 to 1. This one here stands for full-red.\n",
    "\n",
    "We're pretty sure it's last one we want, but let's make sure by using the visual debugging feature:"
   ]
  },
  {
   "cell_type": "code",
   "execution_count": 24,
   "id": "47355fa7",
   "metadata": {},
   "outputs": [
    {
     "data": {
      "image/png": "[encoded data removed]",
      "text/plain": [
       "<pdfplumber.display.PageImage at 0x10f4d5310>"
      ]
     },
     "execution_count": 24,
     "metadata": {},
     "output_type": "execute_result"
    }
   ],
   "source": [
    "red_chars = [c for c in page.chars if c[\"non_stroking_color\"] == (1, 0, 0)]\n",
    "\n",
    "im.reset().draw_rects(red_chars)"
   ]
  },
  {
   "cell_type": "markdown",
   "id": "935baae5",
   "metadata": {},
   "source": [
    "Great! Now let's extract that, using a new method we haven't seen before: `Page.filter(...)`.\n",
    "\n",
    "`Page.filter(...)` takes a function that will return `True` for objects we want to keep and `False` for those we want to ditch. So let's write that function and try it:"
   ]
  },
  {
   "cell_type": "code",
   "execution_count": 25,
   "id": "b204de68",
   "metadata": {},
   "outputs": [
    {
     "name": "stdout",
     "output_type": "stream",
     "text": [
      "INS-UP70N51NCL41R\n"
     ]
    }
   ],
   "source": [
    "def is_red(obj):\n",
    "    return obj.get(\"non_stroking_color\") == (1, 0, 0)\n",
    "\n",
    "\n",
    "filtered_page = page.filter(is_red)\n",
    "\n",
    "print(filtered_page.extract_text())"
   ]
  },
  {
   "cell_type": "markdown",
   "id": "271bed9b",
   "metadata": {},
   "source": [
    "It worked!"
   ]
  },
  {
   "cell_type": "markdown",
   "id": "8e40da63-cbfb-45ba-b36c-d6a670c72d55",
   "metadata": {},
   "source": [
    "## Date, site, and violation count"
   ]
  },
  {
   "cell_type": "markdown",
   "id": "4cfc9362-0703-4a63-84f0-12812ccc1f6a",
   "metadata": {},
   "source": [
    "For these fields, which each seem to be single-lined, we can probably safely just search by regular expression:"
   ]
  },
  {
   "cell_type": "code",
   "execution_count": 26,
   "id": "091fcbf8-6bd3-4ba3-a5dc-72681a412940",
   "metadata": {},
   "outputs": [
    {
     "name": "stdout",
     "output_type": "stream",
     "text": [
      "February 3, 1905\n"
     ]
    }
   ],
   "source": [
    "print(page.search(r\"\\nDate:\\s+(.+?)\\n\")[0][\"groups\"][0])"
   ]
  },
  {
   "cell_type": "code",
   "execution_count": 27,
   "id": "85455374-3ffb-4929-a9bb-21767d516a5d",
   "metadata": {},
   "outputs": [
    {
     "name": "stdout",
     "output_type": "stream",
     "text": [
      "Durham’s Meatpacking Chicago, Ill.\n"
     ]
    }
   ],
   "source": [
    "print(page.search(r\"\\nSite:\\s+(.+?)\\n\")[0][\"groups\"][0])"
   ]
  },
  {
   "cell_type": "code",
   "execution_count": 28,
   "id": "3705ca71-b1ff-4ed6-8fa0-1aa5dd43fedb",
   "metadata": {},
   "outputs": [
    {
     "name": "stdout",
     "output_type": "stream",
     "text": [
      "7\n"
     ]
    }
   ],
   "source": [
    "print(page.search(r\"\\nViolation Count:\\s+(.+?)\\n\")[0][\"groups\"][0])"
   ]
  },
  {
   "cell_type": "markdown",
   "id": "a30fd5cc-c9b5-4913-b2f7-c3975ccadb57",
   "metadata": {},
   "source": [
    "Extra credit: How might you separate the site name (`Durham’s Meatpacking`) from its location (`Chicago, Ill.`)?"
   ]
  },
  {
   "cell_type": "markdown",
   "id": "670d8150-e00a-4ea3-b1d9-1d6164414bcb",
   "metadata": {},
   "source": [
    "## Summary text\n",
    "\n",
    "There's basically (other than the extra credit below), just one other part we need to grab: The summary text. Unlike the other chunks of text, it's multiline. We *could* use the `.search(...)` method above ... but where would we stop? We could stop at \"Violations\" ... but can we be sure that the summary text itself doesn't use that phrase?\n",
    "\n",
    "Instead, let's try combining a few of the techniques we've picked up so far. We'll do this:\n",
    "\n",
    "1. Identify where the summary begins\n",
    "2. Identify the position of the horizontal line that separates the summary text from the violations section\n",
    "3. Crop the page based on that information\n",
    "4. Extract the text"
   ]
  },
  {
   "cell_type": "markdown",
   "id": "e05c73fa-6665-456d-9c07-b198b65bf1c2",
   "metadata": {},
   "source": [
    "#### Identify where the summary begins\n",
    "\n",
    "`.search(...)` results each have positional information (`x0`, `top`, etc.) similar to other objects:"
   ]
  },
  {
   "cell_type": "code",
   "execution_count": 29,
   "id": "b9bc621a-49fa-4190-b2e6-bb2fba76ad49",
   "metadata": {},
   "outputs": [
    {
     "data": {
      "text/plain": [
       "144.07000000000005"
      ]
     },
     "execution_count": 29,
     "metadata": {},
     "output_type": "execute_result"
    }
   ],
   "source": [
    "summary_match = page.search(r\"\\nSummary:\")[0]\n",
    "\n",
    "summary_match[\"top\"]"
   ]
  },
  {
   "cell_type": "code",
   "execution_count": 30,
   "id": "9ca32943-b017-4d9f-8029-6615a5e7721f",
   "metadata": {},
   "outputs": [
    {
     "data": {
      "text/plain": [
       "(50.0, 144.07000000000005, 98.9, 154.07000000000005)"
      ]
     },
     "execution_count": 30,
     "metadata": {},
     "output_type": "execute_result"
    }
   ],
   "source": [
    "summary_bbox = pdfplumber.utils.obj_to_bbox(summary_match)\n",
    "\n",
    "summary_bbox"
   ]
  },
  {
   "cell_type": "markdown",
   "id": "e310f994-616e-4aaf-b029-34379e8dff17",
   "metadata": {},
   "source": [
    "#### Identify the position of the horizontal line"
   ]
  },
  {
   "cell_type": "markdown",
   "id": "e4d9e1e8-0e3d-4e7a-9986-348cc7dea627",
   "metadata": {},
   "source": [
    "There are a number of ways to identify a line; in this case, we'll take advantage of the fact, that it's the only line that's 2 units thick:"
   ]
  },
  {
   "cell_type": "code",
   "execution_count": 31,
   "id": "3b70de8f-a71e-403d-937e-eaef22eabc2f",
   "metadata": {},
   "outputs": [
    {
     "data": {
      "text/plain": [
       "0.0    14\n",
       "0.5     6\n",
       "2.0     1\n",
       "Name: count, dtype: int64"
      ]
     },
     "execution_count": 31,
     "metadata": {},
     "output_type": "execute_result"
    }
   ],
   "source": [
    "pd.Series([x[\"linewidth\"] for x in page.lines]).value_counts()"
   ]
  },
  {
   "cell_type": "code",
   "execution_count": 32,
   "id": "71432f2b-9085-4fa4-ac7e-76ecfbc73c7f",
   "metadata": {},
   "outputs": [
    {
     "data": {
      "text/plain": [
       "{'x0': 50,\n",
       " 'y0': 440,\n",
       " 'x1': 550,\n",
       " 'y1': 440,\n",
       " 'width': 500,\n",
       " 'height': 0,\n",
       " 'pts': [(50, 352), (550, 352)],\n",
       " 'linewidth': 2,\n",
       " 'stroke': True,\n",
       " 'fill': False,\n",
       " 'evenodd': False,\n",
       " 'stroking_color': (0,),\n",
       " 'non_stroking_color': None,\n",
       " 'mcid': None,\n",
       " 'tag': None,\n",
       " 'object_type': 'line',\n",
       " 'page_number': 1,\n",
       " 'stroking_pattern': None,\n",
       " 'non_stroking_pattern': None,\n",
       " 'path': [('m', (50.0, 352.0)), ('l', (550.0, 352.0))],\n",
       " 'dash': None,\n",
       " 'top': 352,\n",
       " 'bottom': 352,\n",
       " 'doctop': 352}"
      ]
     },
     "execution_count": 32,
     "metadata": {},
     "output_type": "execute_result"
    }
   ],
   "source": [
    "dividing_line = [x for x in page.lines if x[\"linewidth\"] == 2][0]\n",
    "dividing_line"
   ]
  },
  {
   "cell_type": "markdown",
   "id": "765fda3f-59b1-4803-85ca-8319aad7c21d",
   "metadata": {},
   "source": [
    "#### Let's confirm we got what we wanted"
   ]
  },
  {
   "cell_type": "code",
   "execution_count": 33,
   "id": "4229b3c4-79c8-406f-9446-389f87167c00",
   "metadata": {},
   "outputs": [
    {
     "data": {
      "image/png": "[encoded data removed]",
      "text/plain": [
       "<pdfplumber.display.PageImage at 0x10f4d5310>"
      ]
     },
     "execution_count": 33,
     "metadata": {},
     "output_type": "execute_result"
    }
   ],
   "source": [
    "im.reset()\n",
    "\n",
    "im.draw_rect(summary_bbox)\n",
    "\n",
    "im.draw_line(dividing_line, stroke_width=3)"
   ]
  },
  {
   "cell_type": "markdown",
   "id": "9b4368cb-9c09-4027-973b-c8faadf8032f",
   "metadata": {},
   "source": [
    "#### Crop the page based on that information"
   ]
  },
  {
   "cell_type": "code",
   "execution_count": 34,
   "id": "727f8590-f4be-4cb7-a783-74225874b813",
   "metadata": {},
   "outputs": [
    {
     "data": {
      "image/png": "[encoded data removed]",
      "text/plain": [
       "<pdfplumber.display.PageImage at 0x10f7ce750>"
      ]
     },
     "execution_count": 34,
     "metadata": {},
     "output_type": "execute_result"
    }
   ],
   "source": [
    "summary_crop = page.crop(\n",
    "    (\n",
    "        0,  # The left side of the page\n",
    "        summary_match[\"top\"],  # The top of the \"Summary:\" match\n",
    "        page.width,  # The right side of the page\n",
    "        dividing_line[\"top\"],  # The top of the dividing line\n",
    "    )\n",
    ")\n",
    "\n",
    "summary_crop.to_image()"
   ]
  },
  {
   "cell_type": "markdown",
   "id": "3e5c8082-810c-4a2c-84ab-b237284b227b",
   "metadata": {},
   "source": [
    "#### Extract the text"
   ]
  },
  {
   "cell_type": "code",
   "execution_count": 35,
   "id": "59bb63f8-c45f-49a6-8eee-e1bd500f5e8a",
   "metadata": {},
   "outputs": [
    {
     "name": "stdout",
     "output_type": "stream",
     "text": [
      "Summary: Worst of any, however, were the fertilizer men, and those who served in the cooking rooms.\n",
      "These people could not be shown to the visitor - for the odor of a fertilizer man would scare any ordinary\n",
      "visitor at a hundred yards, and as for the other men, who worked in tank rooms full of steam, and in\n",
      "some of which there were open vats near the level of the floor, their peculiar trouble was that they fell\n",
      "into the vats; and when they were fished out, there was never enough of them left to be worth\n",
      "exhibiting - sometimes they would be overlooked for days, till all but the bones of them had gone out\n",
      "to the world as Durham’s Pure Leaf Lard!\n"
     ]
    }
   ],
   "source": [
    "print(summary_crop.extract_text())"
   ]
  },
  {
   "cell_type": "markdown",
   "id": "a09ecf6a-56c7-4268-b60e-0fe087dae160",
   "metadata": {},
   "source": [
    "## Extra-extra credit\n",
    "\n",
    "In the violations table, how might you determine which rows have the `Repeat?` box checked?"
   ]
  },
  {
   "cell_type": "markdown",
   "id": "387df97e",
   "metadata": {},
   "source": [
    "---\n",
    "\n",
    "---\n",
    "\n",
    "---"
   ]
  }
 ],
 "metadata": {
  "kernelspec": {
   "display_name": "Python 3 (ipykernel)",
   "language": "python",
   "name": "python3"
  },
  "language_info": {
   "codemirror_mode": {
    "name": "ipython",
    "version": 3
   },
   "file_extension": ".py",
   "mimetype": "text/x-python",
   "name": "python",
   "nbconvert_exporter": "python",
   "pygments_lexer": "ipython3",
   "version": "3.12.6"
  }
 },
 "nbformat": 4,
 "nbformat_minor": 5
}
